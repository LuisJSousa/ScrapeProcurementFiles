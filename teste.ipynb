{
 "cells": [
  {
   "cell_type": "code",
   "execution_count": 13,
   "metadata": {},
   "outputs": [
    {
     "name": "stdout",
     "output_type": "stream",
     "text": [
      "https://www.anogov.com/op-portoaveiro/faces/app/pap/\n",
      "https://www.anogov.com/op-portoaveiro/faces/app/pap/listaDocs.jsp?papId=5052downloadDiretoDocumento?papId=5052&docId=37634&fichId=43687&lang=pt\n"
     ]
    }
   ],
   "source": [
    "url = 'https://www.anogov.com/op-portoaveiro/faces/app/pap/listaDocs.jsp?papId=5052'\n",
    "i = \"downloadDiretoDocumento?papId=5052&docId=37634&fichId=43687&lang=pt\"\n",
    "# Split the URL by the '?' character\n",
    "split_url = url.split('/')[-1]\n",
    "split_url = url.replace(split_url,\"\")\n",
    "o = url + i\n",
    "print(split_url)\n",
    "print(o)"
   ]
  }
 ],
 "metadata": {
  "kernelspec": {
   "display_name": "base",
   "language": "python",
   "name": "python3"
  },
  "language_info": {
   "codemirror_mode": {
    "name": "ipython",
    "version": 3
   },
   "file_extension": ".py",
   "mimetype": "text/x-python",
   "name": "python",
   "nbconvert_exporter": "python",
   "pygments_lexer": "ipython3",
   "version": "3.9.13"
  },
  "orig_nbformat": 4
 },
 "nbformat": 4,
 "nbformat_minor": 2
}
